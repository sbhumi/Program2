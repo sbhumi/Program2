{
 "cells": [
  {
   "cell_type": "markdown",
   "id": "76069aa3-defd-4bdc-a4a6-e63f2bee2752",
   "metadata": {},
   "source": [
    "# Program 2"
   ]
  },
  {
   "cell_type": "code",
   "execution_count": 1,
   "id": "644ba967-0426-478d-aa44-95c5b2e48c4c",
   "metadata": {},
   "outputs": [],
   "source": [
    "# imports\n",
    "import random\n",
    "import math\n",
    "import numpy as np\n",
    "import matplotlib.pyplot as plt"
   ]
  },
  {
   "cell_type": "code",
   "execution_count": 64,
   "id": "6ccad9f9-4f52-46e3-8fa7-8188d8c08f82",
   "metadata": {},
   "outputs": [],
   "source": [
    "# initializing variables\n",
    "countChange = 0\n",
    "countAttempt = 0\n",
    "temp = 4000\n",
    "changes = 4000\n",
    "attempts = 40000\n",
    "numSelect = 20   # 400 * 0.05\n",
    "maxWeight = 500\n",
    "maxUtil = 1000\n",
    "weights = 0\n",
    "utilities = 0\n",
    "minimizing = 1000 - utilities"
   ]
  },
  {
   "cell_type": "code",
   "execution_count": 65,
   "id": "c6f6c240-dc86-4a5b-8d75-7721c30c17fa",
   "metadata": {},
   "outputs": [],
   "source": [
    "# importing input file data\n",
    "inputs = np.loadtxt(\"Program2Input.txt\", dtype = float)"
   ]
  },
  {
   "cell_type": "code",
   "execution_count": 66,
   "id": "6acead09-3172-4965-bde3-d7bf3145c1e8",
   "metadata": {},
   "outputs": [],
   "source": [
    "# randomize number of items\n",
    "numSelect = random.randrange(0, 400)"
   ]
  },
  {
   "cell_type": "code",
   "execution_count": 67,
   "id": "2abab145-e51c-47f1-8dbd-c2a65663fe1c",
   "metadata": {},
   "outputs": [],
   "source": [
    "# function to randomly select x number of items to include\n",
    "\n",
    "# initially was trying the below line based off of the following stackoverflow but couldn't get it to work\n",
    "# reference: https://stackoverflow.com/questions/14262654/numpy-get-random-set-of-rows-from-2d-array\n",
    "#incuded = inputs[np.random.choice(inputs.shape[0], numSelect, replace = False), :]\n",
    "\n",
    "# ended up trying out a different method from the following stackoverflow after struggling with the above\n",
    "# reference: https://stackoverflow.com/questions/44447179/how-to-randomly-sample-in-2d-matrix-in-numpy\n",
    "def randomSelect(inArr, randNum):\n",
    "    idx = np.arange(0, inArr.shape[0])\n",
    "    np.random.shuffle(idx)\n",
    "    outArr = inArr[idx[:randNum]]\n",
    "    return outArr"
   ]
  },
  {
   "cell_type": "code",
   "execution_count": null,
   "id": "765ea94a-29db-490f-8b60-b590e0bf2e13",
   "metadata": {},
   "outputs": [
    {
     "data": {
      "text/plain": [
       "array([[ 7.4, 13.6],\n",
       "       [ 2.5, 16.1],\n",
       "       [ 9. , 18.5],\n",
       "       [ 8.8, 10.8],\n",
       "       [ 7.8,  1.9],\n",
       "       [ 8.8, 14.6],\n",
       "       [ 4.1, 13.2],\n",
       "       [ 6.8, 14.9],\n",
       "       [ 0.5,  2.2],\n",
       "       [ 3.2, 11.1],\n",
       "       [ 1.1, 15. ],\n",
       "       [ 1.2, 17.7],\n",
       "       [ 1.3,  1. ],\n",
       "       [ 0.7,  5.8],\n",
       "       [ 2. ,  7.4],\n",
       "       [ 1.8,  7.4],\n",
       "       [ 1.1, 15.7],\n",
       "       [ 7.7,  4.3],\n",
       "       [ 9.4,  8.7],\n",
       "       [ 4.4, 11.1]])"
      ]
     },
     "execution_count": 37,
     "metadata": {},
     "output_type": "execute_result"
    }
   ],
   "source": [
    "# printing to make sure new np array has 20 randomly selected items\n",
    "include\n",
    "# ignore this, this is from when i hard coded the number of items selected instead of randomizing the amount"
   ]
  },
  {
   "cell_type": "code",
   "execution_count": 79,
   "id": "9e607319-eff8-4ad0-b1d8-8e855311c1ef",
   "metadata": {},
   "outputs": [],
   "source": [
    "# simulated annealing\n",
    "while countChange in range(changes) or countAttempt in range(attempts):\n",
    "    numSelect = random.randrange(0, 400)\n",
    "    include = randomSelect(inputs, numSelect)\n",
    "    \n",
    "    totals = np.sum(include, axis = 0)   # reference:https://www.delftstack.com/howto/numpy/sum-of-columns-matrix-numpy/\n",
    "    utilities = totals[0]\n",
    "    weights = totals[1]\n",
    "    minimizing = 1000 - utilities\n",
    "    \n",
    "    if weights <= 500:\n",
    "        countChange += 1\n",
    "        break\n",
    "\n",
    "    else:\n",
    "        penalty = (500 - weights) * (-20)\n",
    "        weights = penalty\n",
    "        minimizing = 1000 - utilities\n",
    "        temp *= 0.75\n",
    "        numSelect = random.randrange(0, 400)\n",
    "        countAttempt += 1"
   ]
  },
  {
   "cell_type": "code",
   "execution_count": 80,
   "id": "37745395-ef63-4a90-95a2-63f5176a775c",
   "metadata": {},
   "outputs": [
    {
     "name": "stdout",
     "output_type": "stream",
     "text": [
      "261.2\n",
      "112.09999999999998\n",
      "1.269917085653438\n",
      "23\n"
     ]
    }
   ],
   "source": [
    "# making sure values are being carried over\n",
    "print(weights)\n",
    "print(utilities)\n",
    "print(temp)   # decrease here would indicate it is looping through the annealing\n",
    "print(numSelect)"
   ]
  },
  {
   "cell_type": "code",
   "execution_count": 81,
   "id": "5f95bef5-8bec-4b11-bd5c-8d4c2326792a",
   "metadata": {},
   "outputs": [],
   "source": [
    "# outputting content\n",
    "file = open(\"output.txt\", \"w\")\n",
    "file.write(\"Number of Items Packed: \" + str(numSelect) + \"\\n\")\n",
    "file.write(\"Total Utility: \" + str(utilities) + \"\\n\")\n",
    "file.write(\"Total Weight: \" + str(weights) + \"\\n\")\n",
    "file.write(\"Below is a numpy array listing the utility/weight pairs of each item selected:\\n\")\n",
    "file.write(str(include))   # reference: https://www.geeksforgeeks.org/how-to-save-a-numpy-array-to-a-text-file/\n",
    "file.close()"
   ]
  },
  {
   "cell_type": "code",
   "execution_count": null,
   "id": "36be78bc-20aa-4750-86ad-5c19cd486b18",
   "metadata": {},
   "outputs": [],
   "source": []
  }
 ],
 "metadata": {
  "kernelspec": {
   "display_name": "Python 3 (ipykernel)",
   "language": "python",
   "name": "python3"
  },
  "language_info": {
   "codemirror_mode": {
    "name": "ipython",
    "version": 3
   },
   "file_extension": ".py",
   "mimetype": "text/x-python",
   "name": "python",
   "nbconvert_exporter": "python",
   "pygments_lexer": "ipython3",
   "version": "3.9.12"
  }
 },
 "nbformat": 4,
 "nbformat_minor": 5
}
